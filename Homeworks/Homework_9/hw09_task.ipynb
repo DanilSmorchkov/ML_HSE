{
 "cells": [
  {
   "cell_type": "markdown",
   "metadata": {},
   "source": [
    "# Случайные леса\n",
    "__Суммарное количество баллов: 10__\n",
    "\n",
    "В этом задании вам предстоит реализовать ансамбль деревьев решений, известный как случайный лес, применить его к публичным данным пользователей социальной сети Вконтакте, и сравнить его эффективность с ансамблем, предоставляемым библиотекой CatBoost.\n",
    "\n",
    "В результате мы сможем определить, какие подписки пользователей больше всего влияют на определение возраста и пола человека. "
   ]
  },
  {
   "cell_type": "code",
   "execution_count": 1,
   "metadata": {},
   "outputs": [],
   "source": [
    "from sklearn.model_selection import train_test_split\n",
    "import numpy as np\n",
    "import pandas\n",
    "import random\n",
    "import matplotlib.pyplot as plt\n",
    "import matplotlib\n",
    "import copy\n",
    "from catboost import CatBoostClassifier"
   ]
  },
  {
   "cell_type": "code",
   "execution_count": 2,
   "metadata": {},
   "outputs": [],
   "source": [
    "from task import gini, entropy, gain"
   ]
  },
  {
   "cell_type": "markdown",
   "metadata": {},
   "source": [
    "### Задание 1 (2 балла)\n",
    "Random Forest состоит из деревьев решений. Каждое такое дерево строится на одной из выборок, полученных при помощи bagging. Элементы, которые не вошли в новую обучающую выборку, образуют out-of-bag выборку. Кроме того, в каждом узле дерева мы случайным образом выбираем набор из `max_features` и ищем признак для предиката разбиения только в этом наборе.\n",
    "\n",
    "Сегодня мы будем работать только с бинарными признаками, поэтому нет необходимости выбирать значение признака для разбиения.\n",
    "\n",
    "#### Методы\n",
    "`predict(X)` - возвращает предсказанные метки для элементов выборки `X`\n",
    "\n",
    "#### Параметры конструктора\n",
    "`X, y` - обучающая выборка и соответствующие ей метки классов. Из нее нужно получить выборку для построения дерева при помощи bagging. Out-of-bag выборку нужно запомнить, она понадобится потом.\n",
    "\n",
    "`criterion=\"gini\"` - задает критерий, который будет использоваться при построении дерева. Возможные значения: `\"gini\"`, `\"entropy\"`.\n",
    "\n",
    "`max_depth=None` - ограничение глубины дерева. Если `None` - глубина не ограничена\n",
    "\n",
    "`min_samples_leaf=1` - минимальное количество элементов в каждом листе дерева.\n",
    "\n",
    "`max_features=\"auto\"` - количество признаков, которые могут использоваться в узле. Если `\"auto\"` - равно `sqrt(X.shape[1])`"
   ]
  },
  {
   "cell_type": "code",
   "execution_count": 3,
   "metadata": {},
   "outputs": [],
   "source": [
    "from task import DecisionTree"
   ]
  },
  {
   "cell_type": "markdown",
   "metadata": {},
   "source": [
    "### Задание 2 (2 балла)\n",
    "Теперь реализуем сам Random Forest. Идея очень простая: строим `n` деревьев, а затем берем модальное предсказание.\n",
    "\n",
    "#### Параметры конструктора\n",
    "`n_estimators` - количество используемых для предсказания деревьев.\n",
    "\n",
    "Остальное - параметры деревьев.\n",
    "\n",
    "#### Методы\n",
    "`fit(X, y)` - строит `n_estimators` деревьев по выборке `X`.\n",
    "\n",
    "`predict(X)` - для каждого элемента выборки `X` возвращает самый частый класс, который предсказывают для него деревья."
   ]
  },
  {
   "cell_type": "code",
   "execution_count": 4,
   "metadata": {},
   "outputs": [],
   "source": [
    "class RandomForestClassifier:\n",
    "    def __init__(self, criterion=\"gini\", max_depth=None, min_samples_leaf=1, max_features=\"auto\", n_estimators=10):\n",
    "        raise NotImplementedError()\n",
    "\n",
    "    def fit(self, X, y):\n",
    "        raise NotImplementedError()\n",
    "    \n",
    "    def predict(self, X):\n",
    "        raise NotImplementedError()"
   ]
  },
  {
   "cell_type": "markdown",
   "metadata": {},
   "source": [
    "### Задание 3 (2 балла)\n",
    "Часто хочется понимать, насколько большую роль играет тот или иной признак для предсказания класса объекта. Есть различные способы посчитать его важность. Один из простых способов сделать это для Random Forest - посчитать out-of-bag ошибку предсказания `err_oob`, а затем перемешать значения признака `j` и посчитать ее (`err_oob_j`) еще раз. Оценкой важности признака `j` для одного дерева будет разность `err_oob_j - err_oob`, важность для всего леса считается как среднее значение важности по деревьям.\n",
    "\n",
    "Реализуйте функцию `feature_importance`, которая принимает на вход Random Forest и возвращает массив, в котором содержится важность для каждого признака."
   ]
  },
  {
   "cell_type": "code",
   "execution_count": 5,
   "metadata": {},
   "outputs": [],
   "source": [
    "def feature_importance(rfc):\n",
    "    raise NotImplementedError()\n",
    "\n",
    "def most_important_features(importance, names, k=20):\n",
    "    # Выводит названия k самых важных признаков\n",
    "    idicies = np.argsort(importance)[::-1][:k]\n",
    "    return np.array(names)[idicies]"
   ]
  },
  {
   "cell_type": "markdown",
   "metadata": {},
   "source": [
    "Наконец, пришло время протестировать наше дерево на простом синтетическом наборе данных. В результате точность должна быть примерно равна `1.0`, наибольшее значение важности должно быть у признака с индексом `4`, признаки с индексами `2` и `3`  должны быть одинаково важны, а остальные признаки - не важны совсем."
   ]
  },
  {
   "cell_type": "code",
   "execution_count": 8,
   "metadata": {},
   "outputs": [
    {
     "name": "stdout",
     "output_type": "stream",
     "text": [
      "Accuracy: 1.0\n",
      "Importance: [-5.31075346e-04  6.14068290e-05  1.66429687e-01  1.68173967e-01\n",
      "  3.27628813e-01 -9.52000321e-04]\n"
     ]
    }
   ],
   "source": [
    "from task import RandomForestClassifier, feature_importance\n",
    "def synthetic_dataset(size):\n",
    "    X = [(np.random.randint(0, 2), np.random.randint(0, 2), i % 6 == 3, \n",
    "          i % 6 == 0, i % 3 == 2, np.random.randint(0, 2)) for i in range(size)]\n",
    "    y = [i % 3 for i in range(size)]\n",
    "    return np.array(X), np.array(y)\n",
    "\n",
    "X, y = synthetic_dataset(1000)\n",
    "rfc = RandomForestClassifier(n_estimators=100)\n",
    "rfc.fit(X, y)\n",
    "print(\"Accuracy:\", np.mean(rfc.predict(X) == y))\n",
    "print(\"Importance:\", feature_importance(rfc))"
   ]
  },
  {
   "cell_type": "markdown",
   "metadata": {},
   "source": [
    "### Задание 4 (3 балла)\n",
    "Теперь поработаем с реальными данными.\n",
    "\n",
    "Выборка состоит из публичных анонимизированных данных пользователей социальной сети Вконтакте. Первые два столбца отражают возрастную группу (`zoomer`, `doomer` и `boomer`) и пол (`female`, `male`). Все остальные столбцы являются бинарными признаками, каждый из них определяет, подписан ли пользователь на определенную группу/публичную страницу или нет.\\\n",
    "\\\n",
    "Необходимо обучить два классификатора, один из которых определяет возрастную группу, а второй - пол.\\\n",
    "\\\n",
    "Эксперименты с множеством используемых признаков и подбор гиперпараметров приветствуются. Лес должен строиться за какое-то разумное время.\n",
    "\n",
    "Оценка:\n",
    "1. 1 балл за исправно работающий код\n",
    "2. +1 балл за точность предсказания возростной группы выше 65%\n",
    "3. +1 балл за точность предсказания пола выше 75%"
   ]
  },
  {
   "cell_type": "code",
   "execution_count": 9,
   "metadata": {},
   "outputs": [],
   "source": [
    "def read_dataset(path):\n",
    "    dataframe = pandas.read_csv(path, header=0)\n",
    "    dataset = dataframe.values.tolist()\n",
    "    random.shuffle(dataset)\n",
    "    y_age = [row[0] for row in dataset]\n",
    "    y_sex = [row[1] for row in dataset]\n",
    "    X = [row[2:] for row in dataset]\n",
    "    \n",
    "    return np.array(X), np.array(y_age), np.array(y_sex), list(dataframe.columns)[2:]"
   ]
  },
  {
   "cell_type": "code",
   "execution_count": 10,
   "metadata": {},
   "outputs": [],
   "source": [
    "X, y_age, y_sex, features = read_dataset(\"./vk_train.csv\")\n",
    "X_train, X_test, y_age_train, y_age_test, y_sex_train, y_sex_test = train_test_split(X, y_age, y_sex, train_size=0.9)"
   ]
  },
  {
   "cell_type": "markdown",
   "metadata": {},
   "source": [
    "#### Возраст"
   ]
  },
  {
   "cell_type": "code",
   "execution_count": 11,
   "metadata": {},
   "outputs": [
    {
     "name": "stdout",
     "output_type": "stream",
     "text": [
      "Accuracy: 0.696923076923077\n",
      "Most important features:\n",
      "1. mudakoff\n",
      "2. rhymes\n",
      "3. styd.pozor\n",
      "4. ovsyanochan\n",
      "5. 4ch\n",
      "6. dayvinchik\n",
      "7. rapnewrap\n",
      "8. iwantyou\n",
      "9. pravdashowtop\n",
      "10. reflexia_our_feelings\n",
      "11. pixel_stickers\n",
      "12. ne1party\n",
      "13. girlmeme\n",
      "14. femalemem\n",
      "15. top_screens\n",
      "16. tumblr_vacuum\n",
      "17. ultrapir\n",
      "18. memeboizz\n",
      "19. xfilm\n",
      "20. webestano\n"
     ]
    }
   ],
   "source": [
    "from task import rfc_age\n",
    "\n",
    "rfc_age.fit(X_train, y_age_train)\n",
    "print(\"Accuracy:\", np.mean(rfc_age.predict(X_test) == y_age_test))\n",
    "print(\"Most important features:\")\n",
    "for i, name in enumerate(most_important_features(feature_importance(rfc_age), features, 20)):\n",
    "    print(str(i+1) + \".\", name)"
   ]
  },
  {
   "cell_type": "markdown",
   "metadata": {},
   "source": [
    "#### Пол"
   ]
  },
  {
   "cell_type": "code",
   "execution_count": 12,
   "metadata": {},
   "outputs": [
    {
     "name": "stdout",
     "output_type": "stream",
     "text": [
      "Accuracy: 0.86\n",
      "Most important features:\n",
      "1. 40kg\n",
      "2. 9o_6o_9o\n",
      "3. girlmeme\n",
      "4. mudakoff\n",
      "5. rapnewrap\n",
      "6. zerofat\n",
      "7. reflexia_our_feelings\n",
      "8. modnailru\n",
      "9. i_d_t\n",
      "10. be.beauty\n",
      "11. 4ch\n",
      "12. igm\n",
      "13. sh.cook\n",
      "14. thesmolny\n",
      "15. combovine\n",
      "16. bot_maxim\n",
      "17. femalemem\n",
      "18. cook_bon\n",
      "19. academyofman\n",
      "20. beauty\n"
     ]
    }
   ],
   "source": [
    "from task import rfc_gender\n",
    "\n",
    "rfc_gender.fit(X_train, y_sex_train)\n",
    "print(\"Accuracy:\", np.mean(rfc_gender.predict(X_test) == y_sex_test))\n",
    "print(\"Most important features:\")\n",
    "for i, name in enumerate(most_important_features(feature_importance(rfc_gender), features, 20)):\n",
    "    print(str(i+1) + \".\", name)"
   ]
  },
  {
   "cell_type": "markdown",
   "metadata": {},
   "source": [
    "### CatBoost\n",
    "В качестве аьтернативы попробуем CatBoost. \n",
    "\n",
    "Устаниовить его можно просто с помощью `pip install catboost`. Туториалы можно найти, например, [здесь](https://catboost.ai/docs/concepts/python-usages-examples.html#multiclassification) и [здесь](https://github.com/catboost/tutorials/blob/master/python_tutorial.ipynb). Главное - не забудьте использовать `loss_function='MultiClass'`.\\\n",
    "\\\n",
    "Сначала протестируйте CatBoost на синтетических данных. Выведите точность и важность признаков."
   ]
  },
  {
   "cell_type": "code",
   "execution_count": 13,
   "metadata": {},
   "outputs": [
    {
     "name": "stdout",
     "output_type": "stream",
     "text": [
      "Accuracy: 0.0\n",
      "Importance: None\n"
     ]
    }
   ],
   "source": [
    "X, y = synthetic_dataset(1000)\n",
    "print(\"Accuracy:\", np.mean(None == y))\n",
    "print(\"Importance:\", None)"
   ]
  },
  {
   "cell_type": "markdown",
   "metadata": {},
   "source": [
    "### Задание 5 (3 балла)\n",
    "Попробуем применить один из используемых на практике алгоритмов. В этом нам поможет CatBoost. Также, как и реализованный ними RandomForest, применим его для определения пола и возраста пользователей сети Вконтакте, выведите названия наиболее важных признаков так же, как в задании 3.\\\n",
    "\\\n",
    "Эксперименты с множеством используемых признаков и подбор гиперпараметров приветствуются.\n",
    "\n",
    "Оценка:\n",
    "1. 1 балл за исправно работающий код\n",
    "2. +1 балл за точность предсказания возростной группы выше 65%\n",
    "3. +1 балл за точность предсказания пола выше 75%"
   ]
  },
  {
   "cell_type": "code",
   "execution_count": 112,
   "metadata": {},
   "outputs": [],
   "source": [
    "X, y_age, y_sex, features = read_dataset(\"./vk_train.csv\")\n",
    "X_train, X_test, y_age_train, y_age_test, y_sex_train, y_sex_test = train_test_split(X, y_age, y_sex, train_size=0.9)\n",
    "X_train, X_eval, y_age_train, y_age_eval, y_sex_train, y_sex_eval = train_test_split(X_train, y_age_train, y_sex_train, train_size=0.8)"
   ]
  },
  {
   "cell_type": "markdown",
   "metadata": {},
   "source": [
    "#### Возраст"
   ]
  },
  {
   "cell_type": "code",
   "execution_count": 113,
   "metadata": {},
   "outputs": [],
   "source": [
    "model = CatBoostClassifier(iterations=100,\n",
    "                           learning_rate=1,\n",
    "                           depth=2)"
   ]
  },
  {
   "cell_type": "code",
   "execution_count": 114,
   "metadata": {
    "scrolled": true
   },
   "outputs": [
    {
     "name": "stdout",
     "output_type": "stream",
     "text": [
      "0:\tlearn: 1.0009198\ttotal: 2.84ms\tremaining: 281ms\n",
      "1:\tlearn: 0.9335778\ttotal: 6.38ms\tremaining: 313ms\n",
      "2:\tlearn: 0.9010180\ttotal: 9.17ms\tremaining: 297ms\n",
      "3:\tlearn: 0.8645410\ttotal: 11.7ms\tremaining: 280ms\n",
      "4:\tlearn: 0.8372708\ttotal: 14.2ms\tremaining: 271ms\n",
      "5:\tlearn: 0.8155979\ttotal: 16.8ms\tremaining: 264ms\n",
      "6:\tlearn: 0.8018875\ttotal: 19.3ms\tremaining: 256ms\n",
      "7:\tlearn: 0.7849176\ttotal: 22.7ms\tremaining: 261ms\n",
      "8:\tlearn: 0.7737392\ttotal: 25.1ms\tremaining: 254ms\n",
      "9:\tlearn: 0.7591210\ttotal: 27.6ms\tremaining: 249ms\n",
      "10:\tlearn: 0.7468652\ttotal: 30.3ms\tremaining: 245ms\n",
      "11:\tlearn: 0.7384427\ttotal: 32.9ms\tremaining: 241ms\n",
      "12:\tlearn: 0.7278848\ttotal: 35.7ms\tremaining: 239ms\n",
      "13:\tlearn: 0.7205185\ttotal: 38.4ms\tremaining: 236ms\n",
      "14:\tlearn: 0.7086528\ttotal: 41ms\tremaining: 233ms\n",
      "15:\tlearn: 0.7022280\ttotal: 43.7ms\tremaining: 229ms\n",
      "16:\tlearn: 0.6966889\ttotal: 46.3ms\tremaining: 226ms\n",
      "17:\tlearn: 0.6926544\ttotal: 49ms\tremaining: 223ms\n",
      "18:\tlearn: 0.6891319\ttotal: 52ms\tremaining: 222ms\n",
      "19:\tlearn: 0.6837721\ttotal: 54.7ms\tremaining: 219ms\n",
      "20:\tlearn: 0.6782803\ttotal: 57.3ms\tremaining: 216ms\n",
      "21:\tlearn: 0.6735977\ttotal: 59.8ms\tremaining: 212ms\n",
      "22:\tlearn: 0.6688570\ttotal: 62.3ms\tremaining: 209ms\n",
      "23:\tlearn: 0.6630022\ttotal: 64.9ms\tremaining: 206ms\n",
      "24:\tlearn: 0.6603048\ttotal: 67.8ms\tremaining: 203ms\n",
      "25:\tlearn: 0.6564088\ttotal: 70.3ms\tremaining: 200ms\n",
      "26:\tlearn: 0.6530026\ttotal: 72.7ms\tremaining: 197ms\n",
      "27:\tlearn: 0.6472735\ttotal: 75.2ms\tremaining: 193ms\n",
      "28:\tlearn: 0.6444707\ttotal: 77.5ms\tremaining: 190ms\n",
      "29:\tlearn: 0.6405280\ttotal: 79.9ms\tremaining: 187ms\n",
      "30:\tlearn: 0.6366995\ttotal: 82.6ms\tremaining: 184ms\n",
      "31:\tlearn: 0.6332450\ttotal: 85.6ms\tremaining: 182ms\n",
      "32:\tlearn: 0.6296540\ttotal: 88.4ms\tremaining: 180ms\n",
      "33:\tlearn: 0.6264591\ttotal: 91.1ms\tremaining: 177ms\n",
      "34:\tlearn: 0.6250697\ttotal: 93.7ms\tremaining: 174ms\n",
      "35:\tlearn: 0.6228568\ttotal: 96.3ms\tremaining: 171ms\n",
      "36:\tlearn: 0.6205663\ttotal: 98.8ms\tremaining: 168ms\n",
      "37:\tlearn: 0.6169436\ttotal: 101ms\tremaining: 165ms\n",
      "38:\tlearn: 0.6152021\ttotal: 104ms\tremaining: 162ms\n",
      "39:\tlearn: 0.6124058\ttotal: 106ms\tremaining: 159ms\n",
      "40:\tlearn: 0.6095530\ttotal: 108ms\tremaining: 156ms\n",
      "41:\tlearn: 0.6085883\ttotal: 111ms\tremaining: 153ms\n",
      "42:\tlearn: 0.6074707\ttotal: 114ms\tremaining: 151ms\n",
      "43:\tlearn: 0.6061502\ttotal: 117ms\tremaining: 148ms\n",
      "44:\tlearn: 0.6040978\ttotal: 119ms\tremaining: 145ms\n",
      "45:\tlearn: 0.6000086\ttotal: 121ms\tremaining: 142ms\n",
      "46:\tlearn: 0.5976325\ttotal: 124ms\tremaining: 140ms\n",
      "47:\tlearn: 0.5968632\ttotal: 126ms\tremaining: 137ms\n",
      "48:\tlearn: 0.5958377\ttotal: 129ms\tremaining: 134ms\n",
      "49:\tlearn: 0.5942170\ttotal: 131ms\tremaining: 131ms\n",
      "50:\tlearn: 0.5921707\ttotal: 134ms\tremaining: 128ms\n",
      "51:\tlearn: 0.5910144\ttotal: 136ms\tremaining: 125ms\n",
      "52:\tlearn: 0.5895469\ttotal: 138ms\tremaining: 123ms\n",
      "53:\tlearn: 0.5866808\ttotal: 141ms\tremaining: 120ms\n",
      "54:\tlearn: 0.5854964\ttotal: 143ms\tremaining: 117ms\n",
      "55:\tlearn: 0.5849226\ttotal: 145ms\tremaining: 114ms\n",
      "56:\tlearn: 0.5834090\ttotal: 148ms\tremaining: 112ms\n",
      "57:\tlearn: 0.5832239\ttotal: 150ms\tremaining: 109ms\n",
      "58:\tlearn: 0.5823915\ttotal: 153ms\tremaining: 106ms\n",
      "59:\tlearn: 0.5810867\ttotal: 155ms\tremaining: 104ms\n",
      "60:\tlearn: 0.5795342\ttotal: 158ms\tremaining: 101ms\n",
      "61:\tlearn: 0.5779125\ttotal: 160ms\tremaining: 98.1ms\n",
      "62:\tlearn: 0.5767847\ttotal: 162ms\tremaining: 95.4ms\n",
      "63:\tlearn: 0.5757980\ttotal: 165ms\tremaining: 92.8ms\n",
      "64:\tlearn: 0.5755972\ttotal: 167ms\tremaining: 90.2ms\n",
      "65:\tlearn: 0.5744284\ttotal: 170ms\tremaining: 87.4ms\n",
      "66:\tlearn: 0.5732882\ttotal: 172ms\tremaining: 84.9ms\n",
      "67:\tlearn: 0.5720242\ttotal: 176ms\tremaining: 82.7ms\n",
      "68:\tlearn: 0.5702073\ttotal: 178ms\tremaining: 80.1ms\n",
      "69:\tlearn: 0.5682709\ttotal: 181ms\tremaining: 77.7ms\n",
      "70:\tlearn: 0.5678033\ttotal: 184ms\tremaining: 75ms\n",
      "71:\tlearn: 0.5672672\ttotal: 186ms\tremaining: 72.4ms\n",
      "72:\tlearn: 0.5664648\ttotal: 188ms\tremaining: 69.7ms\n",
      "73:\tlearn: 0.5650919\ttotal: 191ms\tremaining: 67.1ms\n",
      "74:\tlearn: 0.5641061\ttotal: 193ms\tremaining: 64.4ms\n",
      "75:\tlearn: 0.5632804\ttotal: 197ms\tremaining: 62.2ms\n",
      "76:\tlearn: 0.5631490\ttotal: 200ms\tremaining: 59.6ms\n",
      "77:\tlearn: 0.5623577\ttotal: 202ms\tremaining: 57ms\n",
      "78:\tlearn: 0.5620663\ttotal: 205ms\tremaining: 54.4ms\n",
      "79:\tlearn: 0.5609623\ttotal: 207ms\tremaining: 51.8ms\n",
      "80:\tlearn: 0.5602035\ttotal: 210ms\tremaining: 49.2ms\n",
      "81:\tlearn: 0.5587465\ttotal: 213ms\tremaining: 46.8ms\n",
      "82:\tlearn: 0.5581131\ttotal: 217ms\tremaining: 44.4ms\n",
      "83:\tlearn: 0.5573879\ttotal: 221ms\tremaining: 42.1ms\n",
      "84:\tlearn: 0.5567145\ttotal: 224ms\tremaining: 39.5ms\n",
      "85:\tlearn: 0.5564002\ttotal: 229ms\tremaining: 37.2ms\n",
      "86:\tlearn: 0.5560454\ttotal: 231ms\tremaining: 34.6ms\n",
      "87:\tlearn: 0.5557694\ttotal: 234ms\tremaining: 31.9ms\n",
      "88:\tlearn: 0.5545341\ttotal: 236ms\tremaining: 29.2ms\n",
      "89:\tlearn: 0.5525908\ttotal: 239ms\tremaining: 26.6ms\n",
      "90:\tlearn: 0.5524943\ttotal: 242ms\tremaining: 23.9ms\n",
      "91:\tlearn: 0.5513578\ttotal: 246ms\tremaining: 21.4ms\n",
      "92:\tlearn: 0.5506361\ttotal: 248ms\tremaining: 18.7ms\n",
      "93:\tlearn: 0.5502903\ttotal: 251ms\tremaining: 16ms\n",
      "94:\tlearn: 0.5491322\ttotal: 253ms\tremaining: 13.3ms\n",
      "95:\tlearn: 0.5485052\ttotal: 257ms\tremaining: 10.7ms\n",
      "96:\tlearn: 0.5468083\ttotal: 261ms\tremaining: 8.07ms\n",
      "97:\tlearn: 0.5452189\ttotal: 264ms\tremaining: 5.39ms\n",
      "98:\tlearn: 0.5437903\ttotal: 267ms\tremaining: 2.69ms\n",
      "99:\tlearn: 0.5430583\ttotal: 269ms\tremaining: 0us\n"
     ]
    },
    {
     "data": {
      "text/plain": [
       "<catboost.core.CatBoostClassifier at 0x24423697f50>"
      ]
     },
     "execution_count": 114,
     "metadata": {},
     "output_type": "execute_result"
    }
   ],
   "source": [
    "model.fit(X_train, y_age_train)"
   ]
  },
  {
   "cell_type": "code",
   "execution_count": 115,
   "metadata": {},
   "outputs": [
    {
     "name": "stdout",
     "output_type": "stream",
     "text": [
      "Accuracy: 0.7415384615384616\n",
      "Most important features:\n",
      "1. ovsyanochan\n",
      "2. styd.pozor\n",
      "3. 4ch\n",
      "4. tumblr_vacuum\n",
      "5. mudakoff\n",
      "6. rem_shkola\n",
      "7. leprum\n",
      "8. xfilm\n",
      "9. rhymes\n",
      "10. dayvinchik\n"
     ]
    }
   ],
   "source": [
    "print(\"Accuracy:\", np.mean(model.predict(X_test).flatten() == y_age_test))\n",
    "print(\"Most important features:\")\n",
    "for i, name in enumerate(most_important_features(model.get_feature_importance(), features, 10)):\n",
    "    print(str(i+1) + \".\", name)"
   ]
  },
  {
   "cell_type": "code",
   "execution_count": 116,
   "metadata": {},
   "outputs": [],
   "source": [
    "model.save_model('catboost_model1.dump')"
   ]
  },
  {
   "cell_type": "markdown",
   "metadata": {},
   "source": [
    "#### Пол"
   ]
  },
  {
   "cell_type": "code",
   "execution_count": 117,
   "metadata": {},
   "outputs": [],
   "source": [
    "model = CatBoostClassifier(iterations=100,\n",
    "                           learning_rate=1,\n",
    "                           depth=2)\n"
   ]
  },
  {
   "cell_type": "code",
   "execution_count": 118,
   "metadata": {
    "scrolled": true
   },
   "outputs": [
    {
     "name": "stdout",
     "output_type": "stream",
     "text": [
      "0:\tlearn: 0.6134447\ttotal: 2.85ms\tremaining: 282ms\n",
      "1:\tlearn: 0.5659359\ttotal: 7.11ms\tremaining: 348ms\n",
      "2:\tlearn: 0.5317213\ttotal: 9.93ms\tremaining: 321ms\n",
      "3:\tlearn: 0.5090701\ttotal: 12.7ms\tremaining: 305ms\n",
      "4:\tlearn: 0.4912299\ttotal: 15.6ms\tremaining: 297ms\n",
      "5:\tlearn: 0.4770998\ttotal: 18.6ms\tremaining: 292ms\n",
      "6:\tlearn: 0.4585450\ttotal: 21.6ms\tremaining: 287ms\n",
      "7:\tlearn: 0.4451863\ttotal: 24.1ms\tremaining: 277ms\n",
      "8:\tlearn: 0.4297550\ttotal: 26.7ms\tremaining: 270ms\n",
      "9:\tlearn: 0.4214611\ttotal: 29.4ms\tremaining: 265ms\n",
      "10:\tlearn: 0.4121708\ttotal: 32.1ms\tremaining: 260ms\n",
      "11:\tlearn: 0.4033340\ttotal: 35.2ms\tremaining: 258ms\n",
      "12:\tlearn: 0.3954826\ttotal: 37.8ms\tremaining: 253ms\n",
      "13:\tlearn: 0.3900407\ttotal: 40.2ms\tremaining: 247ms\n",
      "14:\tlearn: 0.3851885\ttotal: 43ms\tremaining: 244ms\n",
      "15:\tlearn: 0.3806693\ttotal: 45.7ms\tremaining: 240ms\n",
      "16:\tlearn: 0.3741227\ttotal: 48.7ms\tremaining: 238ms\n",
      "17:\tlearn: 0.3662417\ttotal: 51.7ms\tremaining: 236ms\n",
      "18:\tlearn: 0.3621078\ttotal: 54.6ms\tremaining: 233ms\n",
      "19:\tlearn: 0.3587387\ttotal: 57.3ms\tremaining: 229ms\n",
      "20:\tlearn: 0.3545846\ttotal: 60.1ms\tremaining: 226ms\n",
      "21:\tlearn: 0.3509309\ttotal: 63.1ms\tremaining: 224ms\n",
      "22:\tlearn: 0.3484205\ttotal: 66ms\tremaining: 221ms\n",
      "23:\tlearn: 0.3462312\ttotal: 69.1ms\tremaining: 219ms\n",
      "24:\tlearn: 0.3432487\ttotal: 72.1ms\tremaining: 216ms\n",
      "25:\tlearn: 0.3413013\ttotal: 75.1ms\tremaining: 214ms\n",
      "26:\tlearn: 0.3386808\ttotal: 78.6ms\tremaining: 212ms\n",
      "27:\tlearn: 0.3360817\ttotal: 82.4ms\tremaining: 212ms\n",
      "28:\tlearn: 0.3341197\ttotal: 85.7ms\tremaining: 210ms\n",
      "29:\tlearn: 0.3319771\ttotal: 89ms\tremaining: 208ms\n",
      "30:\tlearn: 0.3298385\ttotal: 91.7ms\tremaining: 204ms\n",
      "31:\tlearn: 0.3281003\ttotal: 94.6ms\tremaining: 201ms\n",
      "32:\tlearn: 0.3265357\ttotal: 97.9ms\tremaining: 199ms\n",
      "33:\tlearn: 0.3243968\ttotal: 101ms\tremaining: 196ms\n",
      "34:\tlearn: 0.3220386\ttotal: 104ms\tremaining: 193ms\n",
      "35:\tlearn: 0.3198685\ttotal: 107ms\tremaining: 191ms\n",
      "36:\tlearn: 0.3183090\ttotal: 110ms\tremaining: 188ms\n",
      "37:\tlearn: 0.3167313\ttotal: 114ms\tremaining: 186ms\n",
      "38:\tlearn: 0.3151623\ttotal: 120ms\tremaining: 187ms\n",
      "39:\tlearn: 0.3137382\ttotal: 123ms\tremaining: 184ms\n",
      "40:\tlearn: 0.3124663\ttotal: 126ms\tremaining: 181ms\n",
      "41:\tlearn: 0.3109032\ttotal: 128ms\tremaining: 177ms\n",
      "42:\tlearn: 0.3091228\ttotal: 133ms\tremaining: 177ms\n",
      "43:\tlearn: 0.3067744\ttotal: 137ms\tremaining: 174ms\n",
      "44:\tlearn: 0.3056345\ttotal: 141ms\tremaining: 172ms\n",
      "45:\tlearn: 0.3042716\ttotal: 147ms\tremaining: 173ms\n",
      "46:\tlearn: 0.3032174\ttotal: 150ms\tremaining: 170ms\n",
      "47:\tlearn: 0.3015427\ttotal: 153ms\tremaining: 166ms\n",
      "48:\tlearn: 0.2993917\ttotal: 156ms\tremaining: 162ms\n",
      "49:\tlearn: 0.2958107\ttotal: 159ms\tremaining: 159ms\n",
      "50:\tlearn: 0.2948549\ttotal: 163ms\tremaining: 156ms\n",
      "51:\tlearn: 0.2937006\ttotal: 166ms\tremaining: 153ms\n",
      "52:\tlearn: 0.2926979\ttotal: 168ms\tremaining: 149ms\n",
      "53:\tlearn: 0.2906978\ttotal: 171ms\tremaining: 146ms\n",
      "54:\tlearn: 0.2896839\ttotal: 174ms\tremaining: 142ms\n",
      "55:\tlearn: 0.2886770\ttotal: 177ms\tremaining: 139ms\n",
      "56:\tlearn: 0.2876296\ttotal: 180ms\tremaining: 136ms\n",
      "57:\tlearn: 0.2865783\ttotal: 183ms\tremaining: 132ms\n",
      "58:\tlearn: 0.2851558\ttotal: 185ms\tremaining: 129ms\n",
      "59:\tlearn: 0.2841449\ttotal: 188ms\tremaining: 125ms\n",
      "60:\tlearn: 0.2826744\ttotal: 191ms\tremaining: 122ms\n",
      "61:\tlearn: 0.2819844\ttotal: 194ms\tremaining: 119ms\n",
      "62:\tlearn: 0.2806579\ttotal: 197ms\tremaining: 115ms\n",
      "63:\tlearn: 0.2801017\ttotal: 199ms\tremaining: 112ms\n",
      "64:\tlearn: 0.2791110\ttotal: 202ms\tremaining: 109ms\n",
      "65:\tlearn: 0.2781339\ttotal: 205ms\tremaining: 106ms\n",
      "66:\tlearn: 0.2771738\ttotal: 208ms\tremaining: 102ms\n",
      "67:\tlearn: 0.2759997\ttotal: 211ms\tremaining: 99.5ms\n",
      "68:\tlearn: 0.2751441\ttotal: 214ms\tremaining: 96.4ms\n",
      "69:\tlearn: 0.2742334\ttotal: 218ms\tremaining: 93.2ms\n",
      "70:\tlearn: 0.2731100\ttotal: 221ms\tremaining: 90.1ms\n",
      "71:\tlearn: 0.2724967\ttotal: 224ms\tremaining: 87.2ms\n",
      "72:\tlearn: 0.2718716\ttotal: 229ms\tremaining: 84.6ms\n",
      "73:\tlearn: 0.2712028\ttotal: 235ms\tremaining: 82.4ms\n",
      "74:\tlearn: 0.2698571\ttotal: 238ms\tremaining: 79.3ms\n",
      "75:\tlearn: 0.2694033\ttotal: 242ms\tremaining: 76.4ms\n",
      "76:\tlearn: 0.2677527\ttotal: 245ms\tremaining: 73.3ms\n",
      "77:\tlearn: 0.2662341\ttotal: 248ms\tremaining: 70ms\n",
      "78:\tlearn: 0.2652993\ttotal: 251ms\tremaining: 66.7ms\n",
      "79:\tlearn: 0.2642533\ttotal: 254ms\tremaining: 63.4ms\n",
      "80:\tlearn: 0.2636806\ttotal: 257ms\tremaining: 60.4ms\n",
      "81:\tlearn: 0.2629090\ttotal: 260ms\tremaining: 57.1ms\n",
      "82:\tlearn: 0.2624251\ttotal: 263ms\tremaining: 53.9ms\n",
      "83:\tlearn: 0.2613271\ttotal: 266ms\tremaining: 50.7ms\n",
      "84:\tlearn: 0.2608660\ttotal: 269ms\tremaining: 47.4ms\n",
      "85:\tlearn: 0.2603901\ttotal: 272ms\tremaining: 44.3ms\n",
      "86:\tlearn: 0.2598069\ttotal: 275ms\tremaining: 41.1ms\n",
      "87:\tlearn: 0.2579875\ttotal: 277ms\tremaining: 37.8ms\n",
      "88:\tlearn: 0.2571543\ttotal: 280ms\tremaining: 34.6ms\n",
      "89:\tlearn: 0.2563918\ttotal: 283ms\tremaining: 31.4ms\n",
      "90:\tlearn: 0.2551979\ttotal: 286ms\tremaining: 28.3ms\n",
      "91:\tlearn: 0.2548569\ttotal: 289ms\tremaining: 25.1ms\n",
      "92:\tlearn: 0.2541366\ttotal: 292ms\tremaining: 21.9ms\n",
      "93:\tlearn: 0.2532617\ttotal: 294ms\tremaining: 18.8ms\n",
      "94:\tlearn: 0.2524795\ttotal: 297ms\tremaining: 15.6ms\n",
      "95:\tlearn: 0.2518836\ttotal: 300ms\tremaining: 12.5ms\n",
      "96:\tlearn: 0.2510768\ttotal: 302ms\tremaining: 9.35ms\n",
      "97:\tlearn: 0.2505416\ttotal: 305ms\tremaining: 6.22ms\n",
      "98:\tlearn: 0.2495741\ttotal: 308ms\tremaining: 3.11ms\n",
      "99:\tlearn: 0.2490785\ttotal: 311ms\tremaining: 0us\n"
     ]
    },
    {
     "data": {
      "text/plain": [
       "<catboost.core.CatBoostClassifier at 0x244237a7350>"
      ]
     },
     "execution_count": 118,
     "metadata": {},
     "output_type": "execute_result"
    }
   ],
   "source": [
    "model.fit(X_train, y_sex_train)"
   ]
  },
  {
   "cell_type": "code",
   "execution_count": 119,
   "metadata": {},
   "outputs": [
    {
     "name": "stdout",
     "output_type": "stream",
     "text": [
      "Accuracy: 0.8623931623931624\n",
      "Most important features:\n",
      "1. 40kg\n",
      "2. modnailru\n",
      "3. girlmeme\n",
      "4. zerofat\n",
      "5. beauty\n",
      "6. h.made\n",
      "7. i_d_t\n",
      "8. mudakoff\n",
      "9. cook_good\n",
      "10. thesmolny\n"
     ]
    }
   ],
   "source": [
    "print(\"Accuracy:\", np.mean(model.predict(X_eval).flatten() == y_sex_eval))\n",
    "print(\"Most important features:\")\n",
    "for i, name in enumerate(most_important_features(model.get_feature_importance(), features, 10)):\n",
    "    print(str(i+1) + \".\", name)"
   ]
  },
  {
   "cell_type": "code",
   "execution_count": 120,
   "metadata": {},
   "outputs": [],
   "source": [
    "model.save_model('catboost_model2.dump')"
   ]
  }
 ],
 "metadata": {
  "kernelspec": {
   "display_name": "Python 3 (ipykernel)",
   "language": "python",
   "name": "python3"
  },
  "language_info": {
   "codemirror_mode": {
    "name": "ipython",
    "version": 3
   },
   "file_extension": ".py",
   "mimetype": "text/x-python",
   "name": "python",
   "nbconvert_exporter": "python",
   "pygments_lexer": "ipython3",
   "version": "3.12.2"
  }
 },
 "nbformat": 4,
 "nbformat_minor": 4
}
