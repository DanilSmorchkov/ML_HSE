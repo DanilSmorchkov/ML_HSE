{
 "cells": [
  {
   "cell_type": "markdown",
   "metadata": {
    "id": "-GeqjUsgn4HY"
   },
   "source": [
    "# Линейная регрессия\n",
    "__Суммарное количество баллов: 10__"
   ]
  },
  {
   "cell_type": "code",
   "execution_count": 1,
   "metadata": {
    "id": "QmYMrZJGn4Hg",
    "ExecuteTime": {
     "end_time": "2024-08-15T19:49:02.821062300Z",
     "start_time": "2024-08-15T19:48:53.349099500Z"
    }
   },
   "outputs": [],
   "source": [
    "from sklearn.datasets import make_blobs, make_moons\n",
    "from sklearn.model_selection import train_test_split\n",
    "import numpy as np\n",
    "import random\n",
    "import matplotlib.pyplot as plt\n",
    "import matplotlib\n",
    "import copy\n",
    "%load_ext autoreload\n",
    "%autoreload 2"
   ]
  },
  {
   "cell_type": "code",
   "execution_count": 2,
   "metadata": {
    "id": "l86n1A9Bn4Hj",
    "ExecuteTime": {
     "end_time": "2024-08-15T19:49:02.929282300Z",
     "start_time": "2024-08-15T19:49:02.822218900Z"
    }
   },
   "outputs": [],
   "source": [
    "def read_data(path=\"boston.csv\"):\n",
    "    dataframe = np.genfromtxt(path, delimiter=\",\", skip_header=15)\n",
    "    np.random.seed(42)\n",
    "    np.random.shuffle(dataframe)\n",
    "    X = dataframe[:, :-1]\n",
    "    y = dataframe[:, -1]\n",
    "    return X, y"
   ]
  },
  {
   "cell_type": "code",
   "execution_count": 3,
   "metadata": {
    "id": "SIDuGR68n4Hj",
    "ExecuteTime": {
     "end_time": "2024-08-15T19:49:03.045493100Z",
     "start_time": "2024-08-15T19:49:02.935309500Z"
    }
   },
   "outputs": [],
   "source": [
    "def generate_synthetic(size:int, dim=6, noise=0.1):\n",
    "    X = np.random.randn(size, dim)\n",
    "    w = np.random.randn(dim + 1)\n",
    "    noise = noise * np.random.randn(size)\n",
    "    y = X.dot(w[1:]) + w[0] + noise\n",
    "    return X, y"
   ]
  },
  {
   "cell_type": "markdown",
   "metadata": {
    "id": "KTQrXJM3n4Hk"
   },
   "source": [
    "### Задание 1 (1 балл)\n",
    "Для начала нужно понять, какую метрику для ошибки будем использовать. В нашем случае нам подойдет стандартная метрика MSE. Также чтобы оценить качество модели нам понадобится метрика $R^2$. Реализуйте обе эти метрики."
   ]
  },
  {
   "cell_type": "code",
   "execution_count": 4,
   "metadata": {
    "id": "MhFj_POqn4Hl",
    "ExecuteTime": {
     "end_time": "2024-08-15T19:49:03.162487600Z",
     "start_time": "2024-08-15T19:49:03.050278900Z"
    }
   },
   "outputs": [],
   "source": [
    "from task import mse, r2"
   ]
  },
  {
   "cell_type": "markdown",
   "metadata": {
    "id": "wl6-3k-wn4Hm"
   },
   "source": [
    "### Задание 2 (3 балла)\n",
    "Теперь реализуем линейную регрессию при помощи явного решения задачи минимизации. \n",
    "\n",
    "#### Методы\n",
    "`fit(X, y)` - решает задачу минимизации $\\arg\\min_{w, b}\\sum ((w\\cdot x + b) - y)^2$. \n",
    "\n",
    "`predict(X)` - строит предсказание `y` для объектов из `X`."
   ]
  },
  {
   "cell_type": "code",
   "execution_count": 5,
   "metadata": {
    "id": "qZ5qQ1p3n4Hn",
    "ExecuteTime": {
     "end_time": "2024-08-15T19:49:03.276203100Z",
     "start_time": "2024-08-15T19:49:03.163682300Z"
    }
   },
   "outputs": [],
   "source": [
    "from task import NormalLR"
   ]
  },
  {
   "cell_type": "code",
   "execution_count": 6,
   "metadata": {
    "id": "Qg5BqJPAn4Hn",
    "ExecuteTime": {
     "end_time": "2024-08-15T19:49:03.394984800Z",
     "start_time": "2024-08-15T19:49:03.277348100Z"
    }
   },
   "outputs": [],
   "source": [
    "X, y = generate_synthetic(1024)\n",
    "X_train, X_test, y_train, y_test = train_test_split(X, y, train_size=0.8)"
   ]
  },
  {
   "cell_type": "code",
   "execution_count": 7,
   "metadata": {
    "id": "dyB5sun8n4Ho",
    "ExecuteTime": {
     "end_time": "2024-08-15T19:49:03.515263700Z",
     "start_time": "2024-08-15T19:49:03.395062200Z"
    }
   },
   "outputs": [
    {
     "name": "stdout",
     "output_type": "stream",
     "text": [
      "MSE: 0.011390296782898733, R2: 0.9956258469247787\n"
     ]
    }
   ],
   "source": [
    "regr = NormalLR()\n",
    "regr.fit(X_train, y_train)\n",
    "y_pred = regr.predict(X_test)\n",
    "print(f\"MSE: {mse(y_test, y_pred)}, R2: {r2(y_test, y_pred)}\")"
   ]
  },
  {
   "cell_type": "markdown",
   "metadata": {
    "id": "AQ9rFp-gn4Hp"
   },
   "source": [
    "### Задание 3 (4 балла)\n",
    "Теперь реализуем линейную регрессию с использованием градиентного спуска с larning rate `alpha` в течении `iterations` итераций. В задании необходимо использовать регуляризацию Лассо с коэффициентом `l`.\n",
    "\n",
    "#### Методы\n",
    "`fit(X, y)` - приближает решение задачи минимизации $\\arg\\min_{w, b}\\sum ((w\\cdot x + b) - y)^2$ при помощи градиентного спуска. \n",
    "\n",
    "\n",
    "`predict(X)` - строит предсказание `y` для объектов из `X`."
   ]
  },
  {
   "cell_type": "code",
   "execution_count": 8,
   "metadata": {
    "id": "eYzw2-dcn4Hq",
    "ExecuteTime": {
     "end_time": "2024-08-15T19:49:03.625320400Z",
     "start_time": "2024-08-15T19:49:03.519725600Z"
    }
   },
   "outputs": [],
   "source": [
    "from task import GradientLR"
   ]
  },
  {
   "cell_type": "code",
   "execution_count": 9,
   "metadata": {
    "id": "NcfjGBREn4Hq",
    "ExecuteTime": {
     "end_time": "2024-08-15T19:49:03.727667Z",
     "start_time": "2024-08-15T19:49:03.632122Z"
    }
   },
   "outputs": [],
   "source": [
    "def build_plot(X_train, y_train, X_test, y_test):\n",
    "    xs = np.arange(0.0, 0.02, 0.0002)\n",
    "    errors = []\n",
    "    for x in xs:\n",
    "        regr = GradientLR(0.1, iterations=10000, l=x)\n",
    "        regr.fit(X_train, y_train)\n",
    "        errors.append(mse(y_test, regr.predict(X_test)))\n",
    "    plt.figure(figsize=(9, 4))\n",
    "    plt.xlim(xs[0], xs[-1])\n",
    "    plt.grid()\n",
    "    plt.plot(xs, errors)\n",
    "    plt.show()"
   ]
  },
  {
   "cell_type": "code",
   "execution_count": 10,
   "metadata": {
    "id": "ZQ8txzZdn4Hr",
    "ExecuteTime": {
     "end_time": "2024-08-15T19:49:03.845108Z",
     "start_time": "2024-08-15T19:49:03.733628200Z"
    }
   },
   "outputs": [],
   "source": [
    "X, y = generate_synthetic(1024)\n",
    "X, X_val, y, y_val = train_test_split(X, y, train_size=0.9, shuffle=True)\n",
    "X_train, X_test, y_train, y_test = train_test_split(X, y, train_size=0.8, shuffle=True)"
   ]
  },
  {
   "cell_type": "code",
   "execution_count": 11,
   "metadata": {
    "id": "z7QFa1czn4Hs",
    "ExecuteTime": {
     "end_time": "2024-08-15T19:49:36.040722Z",
     "start_time": "2024-08-15T19:49:03.849681Z"
    }
   },
   "outputs": [
    {
     "data": {
      "text/plain": "<Figure size 900x400 with 1 Axes>",
      "image/png": "[encoded data removed]"
     },
     "metadata": {},
     "output_type": "display_data"
    }
   ],
   "source": [
    "build_plot(X_train, y_train, X_val, y_val)"
   ]
  },
  {
   "cell_type": "code",
   "execution_count": 12,
   "metadata": {
    "id": "siP8OKLRn4Ht",
    "ExecuteTime": {
     "end_time": "2024-08-15T19:49:36.402415400Z",
     "start_time": "2024-08-15T19:49:36.045378100Z"
    }
   },
   "outputs": [
    {
     "name": "stdout",
     "output_type": "stream",
     "text": [
      "MSE: 0.010884780819561598, R2: 0.9974266927341041\n"
     ]
    }
   ],
   "source": [
    "regr = GradientLR(0.1, iterations=10000, l=0.01)\n",
    "regr.fit(X_train, y_train)\n",
    "y_pred = regr.predict(X_test)\n",
    "print(f\"MSE: {mse(y_test, y_pred)}, R2: {r2(y_test, y_pred)}\")"
   ]
  },
  {
   "cell_type": "markdown",
   "metadata": {},
   "source": [
    "### Задание 4 (2 балла)\n",
    "Линейная регрессия является методом, который можно интерпретировать основываясь на значениях весов модели. Реализуйте метод, который будет упорядочивать признаки по их важности от наибольшей важности к наименьшей.\n",
    "\n",
    "Обратите внимание, что такая интерпретация имеет смысл только если данные предварительно нормализованы, а также в признаках нет мультиколлинеарности (если используете обычную линейную регрессию).\n",
    "\n",
    "#### Методы\n",
    "`get_feature_importance` - метод, который вычисляет важность для каждого признака. Принимает на вход обученную линейную регрессию, возвращает список значений метрики важности признаков.\n",
    "\n",
    "`get_most_important_features`- метод, который упорядочевает признаки по их важности в порядке убывания. Принимает на вход обученную линейную регрессию, возвращает упорядоченный список, состоящий из индексов признаков."
   ]
  },
  {
   "cell_type": "code",
   "execution_count": 13,
   "metadata": {
    "ExecuteTime": {
     "end_time": "2024-08-15T19:49:36.509775200Z",
     "start_time": "2024-08-15T19:49:36.397363500Z"
    }
   },
   "outputs": [],
   "source": [
    "from task import get_feature_importance, get_most_important_features"
   ]
  },
  {
   "cell_type": "code",
   "execution_count": 14,
   "metadata": {
    "ExecuteTime": {
     "end_time": "2024-08-15T19:49:36.629045300Z",
     "start_time": "2024-08-15T19:49:36.512095600Z"
    }
   },
   "outputs": [
    {
     "name": "stdout",
     "output_type": "stream",
     "text": [
      "[0.1268135  0.07315293 0.52858721 0.65292729 0.68659646 1.52008033]\n",
      "[5 4 3 2 0 1]\n"
     ]
    }
   ],
   "source": [
    "regr = NormalLR()\n",
    "regr.fit(X_train, y_train)\n",
    "y_pred = regr.predict(X_test)\n",
    "\n",
    "print(get_feature_importance(regr))\n",
    "print(get_most_important_features(regr))"
   ]
  },
  {
   "cell_type": "code",
   "execution_count": 15,
   "metadata": {
    "ExecuteTime": {
     "end_time": "2024-08-15T19:49:36.967950800Z",
     "start_time": "2024-08-15T19:49:36.625573600Z"
    }
   },
   "outputs": [
    {
     "name": "stdout",
     "output_type": "stream",
     "text": [
      "[0.1223464  0.06959992 0.52741958 0.64472093 0.6956619  1.47388829]\n",
      "[5 4 3 2 0 1]\n"
     ]
    }
   ],
   "source": [
    "regr = GradientLR(0.1, iterations=10000)\n",
    "regr.fit(X_train, y_train)\n",
    "y_pred = regr.predict(X_test)\n",
    "\n",
    "print(get_feature_importance(regr))\n",
    "print(get_most_important_features(regr))"
   ]
  },
  {
   "cell_type": "markdown",
   "metadata": {
    "id": "UmjSHt9rn4Ht"
   },
   "source": [
    "### Дополнительно\n",
    "Протесируйте оба метода на данных `boston.csv`, для градиентного спуска постройте график зависимости ошибки от коэффициента регуляризации. "
   ]
  },
  {
   "cell_type": "code",
   "execution_count": 16,
   "metadata": {
    "id": "dk2TeC7Hn4Hu",
    "ExecuteTime": {
     "end_time": "2024-08-15T19:49:37.077444Z",
     "start_time": "2024-08-15T19:49:36.962226600Z"
    }
   },
   "outputs": [],
   "source": [
    "X, y = read_data()\n",
    "X_train, X_val, y_train, y_val = train_test_split(X, y, train_size=0.8, shuffle=False)"
   ]
  },
  {
   "cell_type": "code",
   "execution_count": 17,
   "metadata": {
    "id": "GZCb_5KVn4Hu",
    "ExecuteTime": {
     "end_time": "2024-08-15T19:49:37.233689500Z",
     "start_time": "2024-08-15T19:49:37.083194500Z"
    }
   },
   "outputs": [
    {
     "name": "stdout",
     "output_type": "stream",
     "text": [
      "MSE: 22266311.08083811, R2: 0.6872797475660881\n"
     ]
    }
   ],
   "source": [
    "regr = NormalLR()\n",
    "regr.fit(X_train, y_train)\n",
    "y_pred = regr.predict(X_val)\n",
    "print(f\"MSE: {mse(y_val, y_pred)}, R2: {r2(y_val, y_pred)}\")"
   ]
  },
  {
   "cell_type": "code",
   "execution_count": 18,
   "metadata": {
    "id": "MtPBlBPkn4Hw",
    "ExecuteTime": {
     "end_time": "2024-08-15T19:49:37.658285600Z",
     "start_time": "2024-08-15T19:49:37.231463300Z"
    }
   },
   "outputs": [
    {
     "name": "stdout",
     "output_type": "stream",
     "text": [
      "MSE: 22266198.150977377, R2: 0.6872813336148246\n"
     ]
    }
   ],
   "source": [
    "regr = GradientLR(0.1, iterations=10000, l=0.02)\n",
    "regr.fit(X_train, y_train)\n",
    "y_pred = regr.predict(X_val)\n",
    "print(f\"MSE: {mse(y_val, y_pred)}, R2: {r2(y_val, y_pred)}\")"
   ]
  },
  {
   "cell_type": "code",
   "execution_count": 19,
   "metadata": {
    "id": "UMkUfayxn4Hv",
    "ExecuteTime": {
     "end_time": "2024-08-15T19:50:07.466496200Z",
     "start_time": "2024-08-15T19:49:37.652716800Z"
    }
   },
   "outputs": [
    {
     "data": {
      "text/plain": "<Figure size 900x400 with 1 Axes>",
      "image/png": "[encoded data removed]"
     },
     "metadata": {},
     "output_type": "display_data"
    }
   ],
   "source": [
    "build_plot(X_train, y_train, X_val, y_val)"
   ]
  },
  {
   "cell_type": "markdown",
   "metadata": {
    "id": "d63Ei1yEn4Hw"
   },
   "source": [
    "Проинтерпритируйте полученные результаты. Опишите влияние каждого признака на результат предсказания."
   ]
  },
  {
   "cell_type": "code",
   "outputs": [],
   "source": [],
   "metadata": {
    "collapsed": false
   }
  }
 ],
 "metadata": {
  "colab": {
   "collapsed_sections": [],
   "name": "hw3_task.ipynb",
   "provenance": []
  },
  "kernelspec": {
   "display_name": "Python 3 (ipykernel)",
   "language": "python",
   "name": "python3"
  },
  "language_info": {
   "codemirror_mode": {
    "name": "ipython",
    "version": 3
   },
   "file_extension": ".py",
   "mimetype": "text/x-python",
   "name": "python",
   "nbconvert_exporter": "python",
   "pygments_lexer": "ipython3",
   "version": "3.11.5"
  }
 },
 "nbformat": 4,
 "nbformat_minor": 4
}
